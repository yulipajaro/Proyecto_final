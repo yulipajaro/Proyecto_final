{
 "cells": [
  {
   "cell_type": "markdown",
   "metadata": {},
   "source": [
    "# Patron de diseño Decorador"
   ]
  },
  {
   "cell_type": "markdown",
   "metadata": {},
   "source": [
    "### Sistema de notificaciones de una aplicación de mensajería"
   ]
  },
  {
   "cell_type": "code",
   "execution_count": 1,
   "metadata": {
    "metadata": {}
   },
   "outputs": [
    {
     "name": "stdout",
     "output_type": "stream",
     "text": [
      "Notificación básica: ¡Nuevo mensaje recibido!\n",
      "Notificación con sonido\n",
      "Notificación con vibración\n",
      "Notificación con mensaje emergente\n"
     ]
    }
   ],
   "source": [
    "from abc import ABC, abstractmethod\n",
    "\n",
    "class Notificacion(ABC):\n",
    "    @abstractmethod\n",
    "    def enviar(self):\n",
    "        pass\n",
    "\n",
    "class NotificacionBasica(Notificacion):\n",
    "    def __init__(self, mensaje):\n",
    "        self.mensaje = mensaje\n",
    "\n",
    "    def enviar(self):\n",
    "        print(f\"Notificación básica: {self.mensaje}\")\n",
    "\n",
    "class DecoradorNotificacion(Notificacion):\n",
    "    def __init__(self, notificacion):\n",
    "        self.notificacion = notificacion\n",
    "\n",
    "    def enviar(self):\n",
    "        self.notificacion.enviar()\n",
    "\n",
    "class NotificacionSonora(DecoradorNotificacion):\n",
    "    def enviar(self):\n",
    "        super().enviar()\n",
    "        print(\"Notificación con sonido\")\n",
    "\n",
    "class NotificacionVibracion(DecoradorNotificacion):\n",
    "    def enviar(self):\n",
    "        super().enviar()\n",
    "        print(\"Notificación con vibración\")\n",
    "\n",
    "# Decorador para notificaciones con mensaje emergente\n",
    "class NotificacionEmergente(DecoradorNotificacion):\n",
    "    def enviar(self):\n",
    "        super().enviar()\n",
    "        print(\"Notificación con mensaje emergente\")\n",
    "\n",
    "# Patrón Decorator\n",
    "if __name__ == \"__main__\":\n",
    "    notificacion_basica = NotificacionBasica(\"¡Nuevo mensaje recibido!\")\n",
    "\n",
    "    # Decoramos la notificación básica con notificaciones sonoras, con vibración y con mensaje emergente\n",
    "    notificacion_decorada = NotificacionEmergente(NotificacionVibracion(NotificacionSonora(notificacion_basica)))\n",
    "\n",
    "    notificacion_decorada.enviar()"
   ]
  }
 ],
 "metadata": {
  "kernelspec": {
   "display_name": "Python 3",
   "language": "python",
   "name": "python3"
  },
  "language_info": {
   "codemirror_mode": {
    "name": "ipython",
    "version": 3
   },
   "file_extension": ".py",
   "mimetype": "text/x-python",
   "name": "python",
   "nbconvert_exporter": "python",
   "pygments_lexer": "ipython3",
   "version": "3.10.13"
  }
 },
 "nbformat": 4,
 "nbformat_minor": 2
}
