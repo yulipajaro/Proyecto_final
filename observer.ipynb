{
 "cells": [
  {
   "cell_type": "markdown",
   "metadata": {},
   "source": [
    "# Principio observer"
   ]
  },
  {
   "cell_type": "markdown",
   "metadata": {},
   "source": [
    "### Sistema de notificaciones para los suscriptores de un canal de YouTube"
   ]
  },
  {
   "cell_type": "code",
   "execution_count": 1,
   "metadata": {
    "metadata": {}
   },
   "outputs": [
    {
     "name": "stdout",
     "output_type": "stream",
     "text": [
      "Nuevo video subido: 'Tutorial de Python'\n",
      "Notificación para Usuario1: Se ha subido un nuevo video - 'Tutorial de Python'\n",
      "Notificación para Usuario2: Se ha subido un nuevo video - 'Tutorial de Python'\n",
      "Notificación para Usuario3: Se ha subido un nuevo video - 'Tutorial de Python'\n",
      "Nuevo video subido: 'Resumen de la Semana'\n",
      "Notificación para Usuario1: Se ha subido un nuevo video - 'Resumen de la Semana'\n",
      "Notificación para Usuario3: Se ha subido un nuevo video - 'Resumen de la Semana'\n"
     ]
    }
   ],
   "source": [
    "from abc import ABC, abstractmethod\n",
    "\n",
    "# Definimos la interfaz para los observadores (suscriptores)\n",
    "class Observador(ABC):\n",
    "    @abstractmethod\n",
    "    def actualizar(self, video):\n",
    "        pass\n",
    "\n",
    "# Implementación de diferentes tipos de observadores (suscriptores)\n",
    "class Suscriptor(Observador):\n",
    "    def __init__(self, nombre):\n",
    "        self.nombre = nombre\n",
    "\n",
    "    def actualizar(self, video):\n",
    "        print(f\"Notificación para {self.nombre}: Se ha subido un nuevo video - '{video.titulo}'\")\n",
    "\n",
    "# Clase para manejar las suscripciones y notificaciones\n",
    "class CanalYouTube:\n",
    "    def __init__(self):\n",
    "        self.suscriptores = []\n",
    "\n",
    "    def suscribir(self, suscriptor):\n",
    "        self.suscriptores.append(suscriptor)\n",
    "\n",
    "    def desuscribir(self, suscriptor):\n",
    "        try:\n",
    "            self.suscriptores.remove(suscriptor)\n",
    "        except ValueError:\n",
    "            print(f\"{suscriptor.nombre} no está suscrito al canal.\")\n",
    "\n",
    "    def subir_video(self, video):\n",
    "        print(f\"Nuevo video subido: '{video.titulo}'\")\n",
    "        self.notificar_suscriptores(video)\n",
    "\n",
    "    def notificar_suscriptores(self, video):\n",
    "        for suscriptor in self.suscriptores:\n",
    "            suscriptor.actualizar(video)\n",
    "\n",
    "# Clase para representar los videos\n",
    "class Video:\n",
    "    def __init__(self, titulo):\n",
    "        self.titulo = titulo\n",
    "\n",
    "# Uso del patrón Observer para el caso de YouTube\n",
    "if __name__ == \"__main__\":\n",
    "    # Creamos un canal de YouTube\n",
    "    canal_youtube = CanalYouTube()\n",
    "\n",
    "    # Creamos algunos suscriptores\n",
    "    suscriptor1 = Suscriptor(\"Usuario1\")\n",
    "    suscriptor2 = Suscriptor(\"Usuario2\")\n",
    "    suscriptor3 = Suscriptor(\"Usuario3\")\n",
    "\n",
    "    # Suscribimos los suscriptores al canal de YouTube\n",
    "    canal_youtube.suscribir(suscriptor1)\n",
    "    canal_youtube.suscribir(suscriptor2)\n",
    "    canal_youtube.suscribir(suscriptor3)\n",
    "\n",
    "    # Subimos un nuevo video al canal\n",
    "    nuevo_video = Video(\"Tutorial de Python\")\n",
    "    canal_youtube.subir_video(nuevo_video)\n",
    "\n",
    "    # Desuscribimos un suscriptor y subimos otro video\n",
    "    canal_youtube.desuscribir(suscriptor2)\n",
    "    nuevo_video = Video(\"Resumen de la Semana\")\n",
    "    canal_youtube.subir_video(nuevo_video)\n"
   ]
  }
 ],
 "metadata": {
  "kernelspec": {
   "display_name": "Python 3",
   "language": "python",
   "name": "python3"
  },
  "language_info": {
   "codemirror_mode": {
    "name": "ipython",
    "version": 3
   },
   "file_extension": ".py",
   "mimetype": "text/x-python",
   "name": "python",
   "nbconvert_exporter": "python",
   "pygments_lexer": "ipython3",
   "version": "3.12.3"
  }
 },
 "nbformat": 4,
 "nbformat_minor": 2
}
