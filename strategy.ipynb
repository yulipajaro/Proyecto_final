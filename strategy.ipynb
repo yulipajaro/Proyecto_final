{
 "cells": [
  {
   "cell_type": "markdown",
   "metadata": {},
   "source": [
    "# Principio Strategy"
   ]
  },
  {
   "cell_type": "markdown",
   "metadata": {},
   "source": [
    "### Sistema de compresión de archivos"
   ]
  },
  {
   "cell_type": "code",
   "execution_count": 1,
   "metadata": {
    "metadata": {}
   },
   "outputs": [
    {
     "name": "stdout",
     "output_type": "stream",
     "text": [
      "Archivo 'documento.txt' comprimido utilizando ZIP.\n",
      "Archivo 'imagen.jpg' comprimido utilizando RAR.\n",
      "Archivo 'datos.csv' comprimido utilizando 7z.\n"
     ]
    }
   ],
   "source": [
    "from abc import ABC, abstractmethod\n",
    "\n",
    "# Interfaz para definir la estrategia de compresión\n",
    "class EstrategiaCompresion(ABC):\n",
    "    @abstractmethod\n",
    "    def comprimir(self, archivo):\n",
    "        pass\n",
    "\n",
    "# Implementación de la estrategia de compresión ZIP\n",
    "class CompresionZIP(EstrategiaCompresion):\n",
    "    def comprimir(self, archivo):\n",
    "        print(f\"Archivo '{archivo}' comprimido utilizando ZIP.\")\n",
    "\n",
    "# Implementación de la estrategia de compresión RAR\n",
    "class CompresionRAR(EstrategiaCompresion):\n",
    "    def comprimir(self, archivo):\n",
    "        print(f\"Archivo '{archivo}' comprimido utilizando RAR.\")\n",
    "\n",
    "# Implementación de la estrategia de compresión 7z\n",
    "class Compresion7z(EstrategiaCompresion):\n",
    "    def comprimir(self, archivo):\n",
    "        print(f\"Archivo '{archivo}' comprimido utilizando 7z.\")\n",
    "\n",
    "# Clase que maneja el proceso de compresión\n",
    "class ProcesoCompresion:\n",
    "    def __init__(self, estrategia_compresion):\n",
    "        self.estrategia_compresion = estrategia_compresion\n",
    "\n",
    "    def ejecutar_compresion(self, archivo):\n",
    "        self.estrategia_compresion.comprimir(archivo)\n",
    "\n",
    "# Uso del patrón Strategy\n",
    "if __name__ == \"__main__\":\n",
    "    # Creamos diferentes estrategias de compresión\n",
    "    compresion_zip = CompresionZIP()\n",
    "    compresion_rar = CompresionRAR()\n",
    "    compresion_7z = Compresion7z()\n",
    "\n",
    "    # Creamos un proceso de compresión para cada estrategia\n",
    "    proceso_zip = ProcesoCompresion(compresion_zip)\n",
    "    proceso_rar = ProcesoCompresion(compresion_rar)\n",
    "    proceso_7z = ProcesoCompresion(compresion_7z)\n",
    "\n",
    "    # Realizamos una compresión con cada estrategia\n",
    "    proceso_zip.ejecutar_compresion(\"documento.txt\")\n",
    "    proceso_rar.ejecutar_compresion(\"imagen.jpg\")\n",
    "    proceso_7z.ejecutar_compresion(\"datos.csv\")\n"
   ]
  }
 ],
 "metadata": {
  "kernelspec": {
   "display_name": "Python 3",
   "language": "python",
   "name": "python3"
  },
  "language_info": {
   "codemirror_mode": {
    "name": "ipython",
    "version": 3
   },
   "file_extension": ".py",
   "mimetype": "text/x-python",
   "name": "python",
   "nbconvert_exporter": "python",
   "pygments_lexer": "ipython3",
   "version": "3.12.3"
  }
 },
 "nbformat": 4,
 "nbformat_minor": 2
}
