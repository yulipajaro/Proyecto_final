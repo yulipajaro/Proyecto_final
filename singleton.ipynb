{
 "cells": [
  {
   "cell_type": "markdown",
   "metadata": {},
   "source": [
    "# Principio Singleton"
   ]
  },
  {
   "cell_type": "markdown",
   "metadata": {},
   "source": [
    "### Sistema de gestión de pacientes de un hospital"
   ]
  },
  {
   "cell_type": "code",
   "execution_count": 1,
   "metadata": {
    "metadata": {}
   },
   "outputs": [],
   "source": [
    "class Hospital:\n",
    "    _instancia = None\n",
    "\n",
    "    def __new__(cls):\n",
    "        if cls._instancia is None:\n",
    "            cls._instancia = super().__new__(cls)\n",
    "            cls._instancia._inicializar()\n",
    "        return cls._instancia\n",
    "\n",
    "    def _inicializar(self):\n",
    "        self.pacientes = []\n",
    "        self.medicos = []\n",
    "\n",
    "    def agregar_paciente(self, paciente):\n",
    "        self.pacientes.append(paciente)\n",
    "        print(f\"Paciente '{paciente.nombre}' registrado en el hospital.\")\n",
    "\n",
    "    def eliminar_paciente(self, paciente):\n",
    "        if paciente in self.pacientes:\n",
    "            self.pacientes.remove(paciente)\n",
    "            print(f\"Paciente '{paciente.nombre}' dado de alta del hospital.\")\n",
    "        else:\n",
    "            print(f\"El paciente '{paciente.nombre}' no está registrado en el hospital.\")\n",
    "\n",
    "    def agregar_medico(self, medico):\n",
    "        self.medicos.append(medico)\n",
    "        print(f\"Médico '{medico.nombre}' contratado en el hospital.\")\n",
    "\n",
    "    def eliminar_medico(self, medico):\n",
    "        if medico in self.medicos:\n",
    "            self.medicos.remove(medico)\n",
    "            print(f\"Médico '{medico.nombre}' despedido del hospital.\")\n",
    "        else:\n",
    "            print(f\"El médico '{medico.nombre}' no está contratado en el hospital.\")\n",
    "\n",
    "    def listar_pacientes(self):\n",
    "        print(\"Pacientes registrados en el hospital:\")\n",
    "        for paciente in self.pacientes:\n",
    "            print(f\"- {paciente.nombre}\")\n",
    "\n",
    "    def listar_medicos(self):\n",
    "        print(\"Médicos contratados en el hospital:\")\n",
    "        for medico in self.medicos:\n",
    "            print(f\"- {medico.nombre}\")\n",
    "\n",
    "class Persona:\n",
    "    def __init__(self, nombre):\n",
    "        self.nombre = nombre\n",
    "\n",
    "class Paciente(Persona):\n",
    "    pass\n",
    "\n",
    "class Medico(Persona):\n",
    "    pass"
   ]
  },
  {
   "cell_type": "markdown",
   "metadata": {},
   "source": [
    "### Creamos una instancia del hospital (Singleton)"
   ]
  },
  {
   "cell_type": "code",
   "execution_count": 2,
   "metadata": {
    "metadata": {}
   },
   "outputs": [
    {
     "name": "stdout",
     "output_type": "stream",
     "text": [
      "Paciente 'Juan' registrado en el hospital.\n",
      "Paciente 'Yulissa' registrado en el hospital.\n",
      "Paciente 'Rebeca' registrado en el hospital.\n",
      "Médico 'Dr. Pérez' contratado en el hospital.\n",
      "Médico 'Dr. Gómez' contratado en el hospital.\n",
      "Pacientes registrados en el hospital:\n",
      "- Juan\n",
      "- Yulissa\n",
      "- Rebeca\n",
      "Médicos contratados en el hospital:\n",
      "- Dr. Pérez\n",
      "- Dr. Gómez\n"
     ]
    }
   ],
   "source": [
    "def main():\n",
    "    hospital = Hospital()\n",
    "\n",
    "    # Creamos algunos pacientes\n",
    "    paciente1 = Paciente(\"Juan\")\n",
    "    paciente2 = Paciente(\"Yulissa\")\n",
    "    paciente3 = Paciente(\"Rebeca\")\n",
    "\n",
    "    # Agregamos los pacientes al hospital\n",
    "    hospital.agregar_paciente(paciente1)\n",
    "    hospital.agregar_paciente(paciente2)\n",
    "    hospital.agregar_paciente(paciente3)\n",
    "\n",
    "    # Creamos algunos médicos\n",
    "    medico1 = Medico(\"Dr. Pérez\")\n",
    "    medico2 = Medico(\"Dr. Gómez\")\n",
    "\n",
    "    # Agregamos los médicos al hospital\n",
    "    hospital.agregar_medico(medico1)\n",
    "    hospital.agregar_medico(medico2)\n",
    "\n",
    "    # Mostramos la lista de pacientes y médicos en el hospital\n",
    "    hospital.listar_pacientes()\n",
    "    hospital.listar_medicos()\n",
    "\n",
    "if __name__ == \"__main__\":\n",
    "    main()\n"
   ]
  }
 ],
 "metadata": {
  "kernelspec": {
   "display_name": "Python 3",
   "language": "python",
   "name": "python3"
  },
  "language_info": {
   "codemirror_mode": {
    "name": "ipython",
    "version": 3
   },
   "file_extension": ".py",
   "mimetype": "text/x-python",
   "name": "python",
   "nbconvert_exporter": "python",
   "pygments_lexer": "ipython3",
   "version": "3.10.13"
  }
 },
 "nbformat": 4,
 "nbformat_minor": 2
}
