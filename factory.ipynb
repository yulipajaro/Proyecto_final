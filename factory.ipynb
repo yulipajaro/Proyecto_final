{
 "cells": [
  {
   "cell_type": "markdown",
   "metadata": {},
   "source": [
    "# Patron de diseño factory"
   ]
  },
  {
   "cell_type": "markdown",
   "metadata": {},
   "source": [
    "### Sistema de gestión de pedidos de comida en un restaurante"
   ]
  },
  {
   "cell_type": "code",
   "execution_count": 1,
   "metadata": {
    "metadata": {}
   },
   "outputs": [],
   "source": [
    "from abc import ABC, abstractmethod\n",
    "\n",
    "# Definimos la interfaz para los platos de comida\n",
    "class Plato(ABC):\n",
    "    @abstractmethod\n",
    "    def preparar(self):\n",
    "        pass\n",
    "\n",
    "# Implementación de diferentes tipos de comida\n",
    "class Pizza(Plato):\n",
    "    def preparar(self):\n",
    "        return \"Preparando una pizza\"\n",
    "\n",
    "class Hamburguesa(Plato):\n",
    "    def preparar(self):\n",
    "        return \"Preparando una hamburguesa\"\n",
    "\n",
    "class Salchipapa(Plato):\n",
    "    def preparar(self):\n",
    "        return \"Preparando una salchipapa\""
   ]
  },
  {
   "cell_type": "code",
   "execution_count": 2,
   "metadata": {
    "metadata": {}
   },
   "outputs": [],
   "source": [
    "# Factory para crear instancias de platos de comida\n",
    "class FabricaComida:\n",
    "    @staticmethod\n",
    "    def crear_plato(tipo):\n",
    "        if tipo == \"pizza\":\n",
    "            return Pizza()\n",
    "        elif tipo == \"hamburguesa\":\n",
    "            return Hamburguesa()\n",
    "        elif tipo == \"salchipapa\":\n",
    "            return Salchipapa()\n",
    "        else:\n",
    "            raise ValueError(\"Tipo de comida no válido\")"
   ]
  },
  {
   "cell_type": "code",
   "execution_count": 3,
   "metadata": {
    "metadata": {}
   },
   "outputs": [
    {
     "name": "stdout",
     "output_type": "stream",
     "text": [
      "Preparando una pizza\n",
      "Preparando una hamburguesa\n",
      "Preparando una salchipapa\n"
     ]
    }
   ],
   "source": [
    "# Cliente que utiliza la fábrica de comida\n",
    "class Cliente:\n",
    "    def __init__(self, tipo_comida):\n",
    "        self.plato = FabricaComida.crear_plato(tipo_comida)\n",
    "\n",
    "    def hacer_pedido(self):\n",
    "        print(self.plato.preparar())\n",
    "\n",
    "# Uso del patrón Factory\n",
    "cliente_pizza = Cliente(\"pizza\")\n",
    "cliente_pizza.hacer_pedido()\n",
    "\n",
    "cliente_hamburguesa = Cliente(\"hamburguesa\")\n",
    "cliente_hamburguesa.hacer_pedido()\n",
    "\n",
    "cliente_salchipapa = Cliente(\"salchipapa\")\n",
    "cliente_salchipapa.hacer_pedido()\n"
   ]
  }
 ],
 "metadata": {
  "kernelspec": {
   "display_name": "Python 3",
   "language": "python",
   "name": "python3"
  },
  "language_info": {
   "codemirror_mode": {
    "name": "ipython",
    "version": 3
   },
   "file_extension": ".py",
   "mimetype": "text/x-python",
   "name": "python",
   "nbconvert_exporter": "python",
   "pygments_lexer": "ipython3",
   "version": "3.12.3"
  }
 },
 "nbformat": 4,
 "nbformat_minor": 2
}
